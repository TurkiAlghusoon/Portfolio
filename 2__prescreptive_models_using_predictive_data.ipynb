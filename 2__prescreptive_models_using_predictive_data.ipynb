{
  "cells": [
    {
      "cell_type": "markdown",
      "metadata": {
        "id": "view-in-github",
        "colab_type": "text"
      },
      "source": [
        "<a href=\"https://colab.research.google.com/github/TurkiAlghusoon/Portfolio/blob/main/2__prescreptive_models_using_predictive_data.ipynb\" target=\"_parent\"><img src=\"https://colab.research.google.com/assets/colab-badge.svg\" alt=\"Open In Colab\"/></a>"
      ]
    },
    {
      "cell_type": "markdown",
      "metadata": {
        "deletable": false,
        "editable": false,
        "nbgrader": {
          "checksum": "3b981f5178f341eeef56632f4bf5e81d",
          "grade": false,
          "grade_id": "cell-ab01b87b3834108c",
          "locked": true,
          "schema_version": 1,
          "solution": false
        },
        "id": "MN58OwypZJHO"
      },
      "source": [
        "###### In this scenario, we consider a physician who's workload is 30 patients per day. Unfortunately, because of no-shows, about 25% of patients fail to show up to their appointments leading to loss revenue for the physician. We aim to find the ideal amount of patient bookings per day."
      ],
      "id": "MN58OwypZJHO"
    },
    {
      "cell_type": "code",
      "execution_count": 14,
      "metadata": {
        "deletable": false,
        "nbgrader": {
          "checksum": "0ad0195e9f00ea1f0feba8eb791153a1",
          "grade": false,
          "grade_id": "cell-1848702d6b2be72b",
          "locked": false,
          "schema_version": 1,
          "solution": true
        },
        "id": "-fb5jegeZJHQ"
      },
      "outputs": [],
      "source": [
        "import scipy\n",
        "from scipy.stats import binom\n",
        "import matplotlib.pyplot as plt"
      ],
      "id": "-fb5jegeZJHQ"
    },
    {
      "cell_type": "code",
      "source": [
        "#First, we calculate how many patients the physician should book to stay busy if only 75% of scheduled patients show up:\n",
        "\n",
        "#Max number of patients per day\n",
        "workload = 30\n",
        "\n",
        "#Percentage of patients that show up\n",
        "prob = 0.75\n",
        "\n",
        "'''\n",
        "General intuition assumes that in order to ensure workload of 30 patients daily, the physician should over shcedule patients\n",
        "to the extent that even when only 75% of scheduled patients show up, worklaod would still remain at maximum workload\n",
        "of 30 patietns\n",
        "'''\n",
        "\n",
        "# Calculating x; where 0.75(x) = 30\n",
        "x = workload / prob\n",
        "print(f'Minimum number of patients to book to maintain minimum of 30 patients daily is: {x}')"
      ],
      "metadata": {
        "colab": {
          "base_uri": "https://localhost:8080/"
        },
        "id": "0god1tUIZp4R",
        "outputId": "cc64c0fd-99aa-4fbb-e9f1-95c9657c9806"
      },
      "id": "0god1tUIZp4R",
      "execution_count": 6,
      "outputs": [
        {
          "output_type": "stream",
          "name": "stdout",
          "text": [
            "Minimum number of patients to book to maintain minimum of 30 patients daily is: 40.0\n"
          ]
        }
      ]
    },
    {
      "cell_type": "markdown",
      "metadata": {
        "deletable": false,
        "editable": false,
        "nbgrader": {
          "checksum": "4514baef0f968a216559b205aa61a1a1",
          "grade": false,
          "grade_id": "cell-f9ff7f87431d0673",
          "locked": true,
          "schema_version": 1,
          "solution": false
        },
        "id": "8Bb7PCw5ZJHR"
      },
      "source": [
        "###### Because historical data assumes 25% of patients no-show, this is a binomial distribution model. We calculate the probability mass function (pmf) for the range of possible values and plot the numbers."
      ],
      "id": "8Bb7PCw5ZJHR"
    },
    {
      "cell_type": "code",
      "execution_count": 28,
      "metadata": {
        "deletable": false,
        "nbgrader": {
          "checksum": "e403f32c166457605a80bd2cb46d4782",
          "grade": false,
          "grade_id": "cell-c7400fcce703e925",
          "locked": false,
          "schema_version": 1,
          "solution": true
        },
        "colab": {
          "base_uri": "https://localhost:8080/",
          "height": 489
        },
        "id": "PdREbzXGZJHS",
        "outputId": "5fce8a3f-c107-4a11-c0b7-1a41f2b2a8f5"
      },
      "outputs": [
        {
          "output_type": "execute_result",
          "data": {
            "text/plain": [
              "Text(0.5, 1.0, 'Probability Distribution for Daily Patient Visits')"
            ]
          },
          "metadata": {},
          "execution_count": 28
        },
        {
          "output_type": "display_data",
          "data": {
            "text/plain": [
              "<Figure size 640x480 with 1 Axes>"
            ],
            "image/png": "[encoded data removed]"
          },
          "metadata": {}
        }
      ],
      "source": [
        "\n",
        "# defining the range of values for patients showing up to appointment in a given day given 40 patients\n",
        "r_values = list(range(int(x) + 1))\n",
        "\n",
        "# generating the \"dist\" variable containing all pmf values\n",
        "dist = [binom.pmf(r, x, prob) for r in r_values]\n",
        "\n",
        "# Plotting the graph. Do not change. Used for grading\n",
        "plt.bar(r_values, dist)\n",
        "plt.xlabel('number of patients in day')\n",
        "plt.ylabel('probability')\n",
        "plt.title('Probability Distribution for Daily Patient Visits')"
      ],
      "id": "PdREbzXGZJHS"
    },
    {
      "cell_type": "markdown",
      "metadata": {
        "deletable": false,
        "editable": false,
        "nbgrader": {
          "checksum": "d1a48896ee04cc5f82ea15cc62ef8899",
          "grade": false,
          "grade_id": "cell-735fdacd3c63d04a",
          "locked": true,
          "schema_version": 1,
          "solution": false
        },
        "id": "Rax0ttbjZJHT"
      },
      "source": [
        "###### Next, we use scipy.stats.binom package to get more insight into the situation. We find the cumulative density function to statistically calculate how much (in percent) will the physician be overbooked if we use the linear calculations from the first step to overbook patients."
      ],
      "id": "Rax0ttbjZJHT"
    },
    {
      "cell_type": "code",
      "execution_count": 18,
      "metadata": {
        "deletable": false,
        "nbgrader": {
          "checksum": "e0e84a67c278a768118601018fe32894",
          "grade": false,
          "grade_id": "cell-9ffb9d53c5071194",
          "locked": false,
          "schema_version": 1,
          "solution": true
        },
        "colab": {
          "base_uri": "https://localhost:8080/"
        },
        "id": "qjS1W2wDZJHT",
        "outputId": "02a5cd6f-b59a-463a-c6a8-a01768091372"
      },
      "outputs": [
        {
          "output_type": "stream",
          "name": "stdout",
          "text": [
            "Probability of having an optimal day: 0.560460268327467\n",
            "Probability of having an overworked day: 0.439539731672533\n"
          ]
        }
      ],
      "source": [
        "\n",
        "#linear prediction parameters\n",
        "linearPrediction = 40\n",
        "workload = 30\n",
        "prob = 0.75\n",
        "\n",
        "# Finding the probability of an \"optimal\" day where 30 or less patients would show up from the 40 bokked\n",
        "optimal = binom.cdf(workload, linearPrediction, prob)\n",
        "\n",
        "# Finding the probability of an \"overworked\" where more than 30 patients show up to their appointments\n",
        "overworked = 1 - optimal\n",
        "print(f'Probability of having an optimal day: {optimal}')\n",
        "print(f'Probability of having an overworked day: {overworked}')"
      ],
      "id": "qjS1W2wDZJHT"
    },
    {
      "cell_type": "markdown",
      "metadata": {
        "deletable": false,
        "editable": false,
        "nbgrader": {
          "checksum": "65e345b6920e46aa37f5ddcb247fbcfe",
          "grade": false,
          "grade_id": "cell-5f3773a408ebc547",
          "locked": true,
          "schema_version": 1,
          "solution": false
        },
        "id": "cYOyMybYZJHU"
      },
      "source": [
        "###### Finally, we use the binomial ppf() function to determine the number of appointments the physician should book in order to limit the risk of having more than 30 appointments per day to 5%"
      ],
      "id": "cYOyMybYZJHU"
    },
    {
      "cell_type": "code",
      "execution_count": 41,
      "metadata": {
        "deletable": false,
        "nbgrader": {
          "checksum": "02a561e630d2c79d8a79cc6edbbe3b2d",
          "grade": false,
          "grade_id": "cell-a7e4987d4d4bb2ef",
          "locked": false,
          "schema_version": 1,
          "solution": true
        },
        "colab": {
          "base_uri": "https://localhost:8080/"
        },
        "id": "-ABxXRVIZJHV",
        "outputId": "0f382db8-a7e7-4963-c45a-9101e59b5290"
      },
      "outputs": [
        {
          "output_type": "stream",
          "name": "stdout",
          "text": [
            "34.0\n"
          ]
        }
      ],
      "source": [
        "workload =30\n",
        "prob = 0.75\n",
        "#Target amount of overbooked patients\n",
        "target = 0.05\n",
        "\n",
        "#Total Number of Patients to book\"\n",
        "total = workload + binom.ppf(target,workload,1-prob)\n",
        "print(total)\n",
        "\n"
      ],
      "id": "-ABxXRVIZJHV"
    }
  ],
  "metadata": {
    "kernelspec": {
      "display_name": "Python 3",
      "language": "python",
      "name": "python3"
    },
    "language_info": {
      "codemirror_mode": {
        "name": "ipython",
        "version": 3
      },
      "file_extension": ".py",
      "mimetype": "text/x-python",
      "name": "python",
      "nbconvert_exporter": "python",
      "pygments_lexer": "ipython3",
      "version": "3.6.9"
    },
    "colab": {
      "provenance": [],
      "include_colab_link": true
    }
  },
  "nbformat": 4,
  "nbformat_minor": 5
}
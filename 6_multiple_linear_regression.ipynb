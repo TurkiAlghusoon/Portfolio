{
  "cells": [
    {
      "cell_type": "markdown",
      "metadata": {
        "id": "view-in-github",
        "colab_type": "text"
      },
      "source": [
        "<a href=\"https://colab.research.google.com/github/TurkiAlghusoon/Portfolio/blob/main/6_multiple_linear_regression.ipynb\" target=\"_parent\"><img src=\"https://colab.research.google.com/assets/colab-badge.svg\" alt=\"Open In Colab\"/></a>"
      ]
    },
    {
      "cell_type": "markdown",
      "source": [
        "In this schenario, the goal is to develop a multiple regresison model to understand the relationship between the various health indicators and diabetes progression"
      ],
      "metadata": {
        "id": "A9oHW7fM1303"
      }
    },
    {
      "cell_type": "markdown",
      "metadata": {
        "deletable": false,
        "editable": false,
        "id": "IMDxUdoLyRyq"
      },
      "source": [
        "#### Diabetes dataset\n",
        "\n",
        "Ten baseline variables, age, sex, body mass index, average blood pressure, and six blood serum measurements were obtained for each of n = 442 diabetes patients, as well as the response of interest, a quantitative measure of disease progression one year after baseline.\n",
        "Data Set Characteristics\n",
        "Number of Instances: 442\n",
        "Number of Attributes\n",
        "First 10 columns are numeric predictive values\n",
        "Target: Column 11 is a quantitative measure of disease progression one year after baseline\n",
        "Attribute Information\n",
        " - age:     age in years <br>\n",
        "  - sex:     sex <br>\n",
        "  - bmi:     body mass index <br>\n",
        "  - bp:      average blood pressure <br>\n",
        "  - s1:      tc, total serum cholesterol <br>\n",
        "  - s2:      ldl, low-density lipoproteins <br>\n",
        "  - s3:      hdl, high-density lipoproteins <br>\n",
        "  - s4:      tch, total cholesterol / HDL <br>\n",
        "  - s5:      ltg, possibly log of serum triglycerides level <br>\n",
        "  - s6:      glu, blood sugar level <br>\n",
        "Note: Each of these 10 feature variables have been mean centered and scaled by the standard deviation times n_samples (i.e. the sum of squares of each column totals 1).\n",
        "Source URL\n",
        "https://www4.stat.ncsu.edu/~boos/var.select/diabetes.html\n",
        "For more information see:\n",
        "Bradley Efron, Trevor Hastie, Iain Johnstone and Robert Tibshirani (2004) \"Least Angle Regression,\" Annals of Statistics (with discussion), 407-499. (https://web.stanford.edu/~hastie/Papers/LARS/LeastAngle_2002.pdf)\n",
        "\n",
        "\n",
        "Source URL: https://www4.stat.ncsu.edu/~boos/var.select/diabetes.html\n",
        "Data URL: https://www4.stat.ncsu.edu/~boos/var.select/diabetes.tab.txt\n",
        "Note: The Data URL mentioned-above is obtained from the source URL. The source URL provides detailed information about the dataset, variables and also reference links including the dataset link.\n",
        "\n"
      ]
    },
    {
      "cell_type": "code",
      "execution_count": 2,
      "metadata": {
        "deletable": false,
        "editable": false,
        "id": "nKj2rjBTyRyl"
      },
      "outputs": [],
      "source": [
        "import numpy as np\n",
        "import pandas as pd\n",
        "import matplotlib.pyplot as plt\n",
        "import statsmodels.api as sm\n",
        "from statsmodels.formula.api import ols\n",
        "from scipy.stats import norm\n",
        "from sklearn.model_selection import train_test_split\n",
        "from sklearn.metrics import r2_score\n",
        "from sklearn import datasets"
      ]
    },
    {
      "cell_type": "code",
      "execution_count": 3,
      "metadata": {
        "deletable": false,
        "id": "-p6w0YzOyRys"
      },
      "outputs": [],
      "source": [
        "# Read the data\n",
        "df = pd.read_csv('https://www4.stat.ncsu.edu/~boos/var.select/diabetes.tab.txt', delimiter = '\\t')"
      ]
    },
    {
      "cell_type": "code",
      "execution_count": 4,
      "metadata": {
        "deletable": false,
        "editable": false,
        "colab": {
          "base_uri": "https://localhost:8080/"
        },
        "id": "j0gJvHnzyRyu",
        "outputId": "c1894625-ef8d-49a1-b1b1-aa596764fe6c"
      },
      "outputs": [
        {
          "output_type": "stream",
          "name": "stdout",
          "text": [
            "<class 'pandas.core.frame.DataFrame'>\n",
            "RangeIndex: 442 entries, 0 to 441\n",
            "Data columns (total 11 columns):\n",
            " #   Column  Non-Null Count  Dtype  \n",
            "---  ------  --------------  -----  \n",
            " 0   AGE     442 non-null    int64  \n",
            " 1   SEX     442 non-null    int64  \n",
            " 2   BMI     442 non-null    float64\n",
            " 3   BP      442 non-null    float64\n",
            " 4   S1      442 non-null    int64  \n",
            " 5   S2      442 non-null    float64\n",
            " 6   S3      442 non-null    float64\n",
            " 7   S4      442 non-null    float64\n",
            " 8   S5      442 non-null    float64\n",
            " 9   S6      442 non-null    int64  \n",
            " 10  Y       442 non-null    int64  \n",
            "dtypes: float64(6), int64(5)\n",
            "memory usage: 38.1 KB\n"
          ]
        }
      ],
      "source": [
        "df.info()"
      ]
    },
    {
      "cell_type": "code",
      "source": [
        "df.head()"
      ],
      "metadata": {
        "colab": {
          "base_uri": "https://localhost:8080/",
          "height": 206
        },
        "id": "tFPa3iky2J_j",
        "outputId": "6e8ac78a-68b0-47d3-b322-104fbb75d1cb"
      },
      "execution_count": 12,
      "outputs": [
        {
          "output_type": "execute_result",
          "data": {
            "text/plain": [
              "   AGE SEX   BMI     BP   S1     S2    S3   S4      S5  S6    Y\n",
              "0   59   2  32.1  101.0  157   93.2  38.0  4.0  4.8598  87  151\n",
              "1   48   1  21.6   87.0  183  103.2  70.0  3.0  3.8918  69   75\n",
              "2   72   2  30.5   93.0  156   93.6  41.0  4.0  4.6728  85  141\n",
              "3   24   1  25.3   84.0  198  131.4  40.0  5.0  4.8903  89  206\n",
              "4   50   1  23.0  101.0  192  125.4  52.0  4.0  4.2905  80  135"
            ],
            "text/html": [
              "\n",
              "  <div id=\"df-1488063c-3863-4966-9cd5-34e34a66bea9\" class=\"colab-df-container\">\n",
              "    <div>\n",
              "<style scoped>\n",
              "    .dataframe tbody tr th:only-of-type {\n",
              "        vertical-align: middle;\n",
              "    }\n",
              "\n",
              "    .dataframe tbody tr th {\n",
              "        vertical-align: top;\n",
              "    }\n",
              "\n",
              "    .dataframe thead th {\n",
              "        text-align: right;\n",
              "    }\n",
              "</style>\n",
              "<table border=\"1\" class=\"dataframe\">\n",
              "  <thead>\n",
              "    <tr style=\"text-align: right;\">\n",
              "      <th></th>\n",
              "      <th>AGE</th>\n",
              "      <th>SEX</th>\n",
              "      <th>BMI</th>\n",
              "      <th>BP</th>\n",
              "      <th>S1</th>\n",
              "      <th>S2</th>\n",
              "      <th>S3</th>\n",
              "      <th>S4</th>\n",
              "      <th>S5</th>\n",
              "      <th>S6</th>\n",
              "      <th>Y</th>\n",
              "    </tr>\n",
              "  </thead>\n",
              "  <tbody>\n",
              "    <tr>\n",
              "      <th>0</th>\n",
              "      <td>59</td>\n",
              "      <td>2</td>\n",
              "      <td>32.1</td>\n",
              "      <td>101.0</td>\n",
              "      <td>157</td>\n",
              "      <td>93.2</td>\n",
              "      <td>38.0</td>\n",
              "      <td>4.0</td>\n",
              "      <td>4.8598</td>\n",
              "      <td>87</td>\n",
              "      <td>151</td>\n",
              "    </tr>\n",
              "    <tr>\n",
              "      <th>1</th>\n",
              "      <td>48</td>\n",
              "      <td>1</td>\n",
              "      <td>21.6</td>\n",
              "      <td>87.0</td>\n",
              "      <td>183</td>\n",
              "      <td>103.2</td>\n",
              "      <td>70.0</td>\n",
              "      <td>3.0</td>\n",
              "      <td>3.8918</td>\n",
              "      <td>69</td>\n",
              "      <td>75</td>\n",
              "    </tr>\n",
              "    <tr>\n",
              "      <th>2</th>\n",
              "      <td>72</td>\n",
              "      <td>2</td>\n",
              "      <td>30.5</td>\n",
              "      <td>93.0</td>\n",
              "      <td>156</td>\n",
              "      <td>93.6</td>\n",
              "      <td>41.0</td>\n",
              "      <td>4.0</td>\n",
              "      <td>4.6728</td>\n",
              "      <td>85</td>\n",
              "      <td>141</td>\n",
              "    </tr>\n",
              "    <tr>\n",
              "      <th>3</th>\n",
              "      <td>24</td>\n",
              "      <td>1</td>\n",
              "      <td>25.3</td>\n",
              "      <td>84.0</td>\n",
              "      <td>198</td>\n",
              "      <td>131.4</td>\n",
              "      <td>40.0</td>\n",
              "      <td>5.0</td>\n",
              "      <td>4.8903</td>\n",
              "      <td>89</td>\n",
              "      <td>206</td>\n",
              "    </tr>\n",
              "    <tr>\n",
              "      <th>4</th>\n",
              "      <td>50</td>\n",
              "      <td>1</td>\n",
              "      <td>23.0</td>\n",
              "      <td>101.0</td>\n",
              "      <td>192</td>\n",
              "      <td>125.4</td>\n",
              "      <td>52.0</td>\n",
              "      <td>4.0</td>\n",
              "      <td>4.2905</td>\n",
              "      <td>80</td>\n",
              "      <td>135</td>\n",
              "    </tr>\n",
              "  </tbody>\n",
              "</table>\n",
              "</div>\n",
              "    <div class=\"colab-df-buttons\">\n",
              "\n",
              "  <div class=\"colab-df-container\">\n",
              "    <button class=\"colab-df-convert\" onclick=\"convertToInteractive('df-1488063c-3863-4966-9cd5-34e34a66bea9')\"\n",
              "            title=\"Convert this dataframe to an interactive table.\"\n",
              "            style=\"display:none;\">\n",
              "\n",
              "  <svg xmlns=\"http://www.w3.org/2000/svg\" height=\"24px\" viewBox=\"0 -960 960 960\">\n",
              "    <path d=\"M120-120v-720h720v720H120Zm60-500h600v-160H180v160Zm220 220h160v-160H400v160Zm0 220h160v-160H400v160ZM180-400h160v-160H180v160Zm440 0h160v-160H620v160ZM180-180h160v-160H180v160Zm440 0h160v-160H620v160Z\"/>\n",
              "  </svg>\n",
              "    </button>\n",
              "\n",
              "  <style>\n",
              "    .colab-df-container {\n",
              "      display:flex;\n",
              "      gap: 12px;\n",
              "    }\n",
              "\n",
              "    .colab-df-convert {\n",
              "      background-color: #E8F0FE;\n",
              "      border: none;\n",
              "      border-radius: 50%;\n",
              "      cursor: pointer;\n",
              "      display: none;\n",
              "      fill: #1967D2;\n",
              "      height: 32px;\n",
              "      padding: 0 0 0 0;\n",
              "      width: 32px;\n",
              "    }\n",
              "\n",
              "    .colab-df-convert:hover {\n",
              "      background-color: #E2EBFA;\n",
              "      box-shadow: 0px 1px 2px rgba(60, 64, 67, 0.3), 0px 1px 3px 1px rgba(60, 64, 67, 0.15);\n",
              "      fill: #174EA6;\n",
              "    }\n",
              "\n",
              "    .colab-df-buttons div {\n",
              "      margin-bottom: 4px;\n",
              "    }\n",
              "\n",
              "    [theme=dark] .colab-df-convert {\n",
              "      background-color: #3B4455;\n",
              "      fill: #D2E3FC;\n",
              "    }\n",
              "\n",
              "    [theme=dark] .colab-df-convert:hover {\n",
              "      background-color: #434B5C;\n",
              "      box-shadow: 0px 1px 3px 1px rgba(0, 0, 0, 0.15);\n",
              "      filter: drop-shadow(0px 1px 2px rgba(0, 0, 0, 0.3));\n",
              "      fill: #FFFFFF;\n",
              "    }\n",
              "  </style>\n",
              "\n",
              "    <script>\n",
              "      const buttonEl =\n",
              "        document.querySelector('#df-1488063c-3863-4966-9cd5-34e34a66bea9 button.colab-df-convert');\n",
              "      buttonEl.style.display =\n",
              "        google.colab.kernel.accessAllowed ? 'block' : 'none';\n",
              "\n",
              "      async function convertToInteractive(key) {\n",
              "        const element = document.querySelector('#df-1488063c-3863-4966-9cd5-34e34a66bea9');\n",
              "        const dataTable =\n",
              "          await google.colab.kernel.invokeFunction('convertToInteractive',\n",
              "                                                    [key], {});\n",
              "        if (!dataTable) return;\n",
              "\n",
              "        const docLinkHtml = 'Like what you see? Visit the ' +\n",
              "          '<a target=\"_blank\" href=https://colab.research.google.com/notebooks/data_table.ipynb>data table notebook</a>'\n",
              "          + ' to learn more about interactive tables.';\n",
              "        element.innerHTML = '';\n",
              "        dataTable['output_type'] = 'display_data';\n",
              "        await google.colab.output.renderOutput(dataTable, element);\n",
              "        const docLink = document.createElement('div');\n",
              "        docLink.innerHTML = docLinkHtml;\n",
              "        element.appendChild(docLink);\n",
              "      }\n",
              "    </script>\n",
              "  </div>\n",
              "\n",
              "\n",
              "<div id=\"df-686014a9-1ac2-4f98-b484-30f7dd452ef4\">\n",
              "  <button class=\"colab-df-quickchart\" onclick=\"quickchart('df-686014a9-1ac2-4f98-b484-30f7dd452ef4')\"\n",
              "            title=\"Suggest charts\"\n",
              "            style=\"display:none;\">\n",
              "\n",
              "<svg xmlns=\"http://www.w3.org/2000/svg\" height=\"24px\"viewBox=\"0 0 24 24\"\n",
              "     width=\"24px\">\n",
              "    <g>\n",
              "        <path d=\"M19 3H5c-1.1 0-2 .9-2 2v14c0 1.1.9 2 2 2h14c1.1 0 2-.9 2-2V5c0-1.1-.9-2-2-2zM9 17H7v-7h2v7zm4 0h-2V7h2v10zm4 0h-2v-4h2v4z\"/>\n",
              "    </g>\n",
              "</svg>\n",
              "  </button>\n",
              "\n",
              "<style>\n",
              "  .colab-df-quickchart {\n",
              "      --bg-color: #E8F0FE;\n",
              "      --fill-color: #1967D2;\n",
              "      --hover-bg-color: #E2EBFA;\n",
              "      --hover-fill-color: #174EA6;\n",
              "      --disabled-fill-color: #AAA;\n",
              "      --disabled-bg-color: #DDD;\n",
              "  }\n",
              "\n",
              "  [theme=dark] .colab-df-quickchart {\n",
              "      --bg-color: #3B4455;\n",
              "      --fill-color: #D2E3FC;\n",
              "      --hover-bg-color: #434B5C;\n",
              "      --hover-fill-color: #FFFFFF;\n",
              "      --disabled-bg-color: #3B4455;\n",
              "      --disabled-fill-color: #666;\n",
              "  }\n",
              "\n",
              "  .colab-df-quickchart {\n",
              "    background-color: var(--bg-color);\n",
              "    border: none;\n",
              "    border-radius: 50%;\n",
              "    cursor: pointer;\n",
              "    display: none;\n",
              "    fill: var(--fill-color);\n",
              "    height: 32px;\n",
              "    padding: 0;\n",
              "    width: 32px;\n",
              "  }\n",
              "\n",
              "  .colab-df-quickchart:hover {\n",
              "    background-color: var(--hover-bg-color);\n",
              "    box-shadow: 0 1px 2px rgba(60, 64, 67, 0.3), 0 1px 3px 1px rgba(60, 64, 67, 0.15);\n",
              "    fill: var(--button-hover-fill-color);\n",
              "  }\n",
              "\n",
              "  .colab-df-quickchart-complete:disabled,\n",
              "  .colab-df-quickchart-complete:disabled:hover {\n",
              "    background-color: var(--disabled-bg-color);\n",
              "    fill: var(--disabled-fill-color);\n",
              "    box-shadow: none;\n",
              "  }\n",
              "\n",
              "  .colab-df-spinner {\n",
              "    border: 2px solid var(--fill-color);\n",
              "    border-color: transparent;\n",
              "    border-bottom-color: var(--fill-color);\n",
              "    animation:\n",
              "      spin 1s steps(1) infinite;\n",
              "  }\n",
              "\n",
              "  @keyframes spin {\n",
              "    0% {\n",
              "      border-color: transparent;\n",
              "      border-bottom-color: var(--fill-color);\n",
              "      border-left-color: var(--fill-color);\n",
              "    }\n",
              "    20% {\n",
              "      border-color: transparent;\n",
              "      border-left-color: var(--fill-color);\n",
              "      border-top-color: var(--fill-color);\n",
              "    }\n",
              "    30% {\n",
              "      border-color: transparent;\n",
              "      border-left-color: var(--fill-color);\n",
              "      border-top-color: var(--fill-color);\n",
              "      border-right-color: var(--fill-color);\n",
              "    }\n",
              "    40% {\n",
              "      border-color: transparent;\n",
              "      border-right-color: var(--fill-color);\n",
              "      border-top-color: var(--fill-color);\n",
              "    }\n",
              "    60% {\n",
              "      border-color: transparent;\n",
              "      border-right-color: var(--fill-color);\n",
              "    }\n",
              "    80% {\n",
              "      border-color: transparent;\n",
              "      border-right-color: var(--fill-color);\n",
              "      border-bottom-color: var(--fill-color);\n",
              "    }\n",
              "    90% {\n",
              "      border-color: transparent;\n",
              "      border-bottom-color: var(--fill-color);\n",
              "    }\n",
              "  }\n",
              "</style>\n",
              "\n",
              "  <script>\n",
              "    async function quickchart(key) {\n",
              "      const quickchartButtonEl =\n",
              "        document.querySelector('#' + key + ' button');\n",
              "      quickchartButtonEl.disabled = true;  // To prevent multiple clicks.\n",
              "      quickchartButtonEl.classList.add('colab-df-spinner');\n",
              "      try {\n",
              "        const charts = await google.colab.kernel.invokeFunction(\n",
              "            'suggestCharts', [key], {});\n",
              "      } catch (error) {\n",
              "        console.error('Error during call to suggestCharts:', error);\n",
              "      }\n",
              "      quickchartButtonEl.classList.remove('colab-df-spinner');\n",
              "      quickchartButtonEl.classList.add('colab-df-quickchart-complete');\n",
              "    }\n",
              "    (() => {\n",
              "      let quickchartButtonEl =\n",
              "        document.querySelector('#df-686014a9-1ac2-4f98-b484-30f7dd452ef4 button');\n",
              "      quickchartButtonEl.style.display =\n",
              "        google.colab.kernel.accessAllowed ? 'block' : 'none';\n",
              "    })();\n",
              "  </script>\n",
              "</div>\n",
              "\n",
              "    </div>\n",
              "  </div>\n"
            ],
            "application/vnd.google.colaboratory.intrinsic+json": {
              "type": "dataframe",
              "variable_name": "df",
              "summary": "{\n  \"name\": \"df\",\n  \"rows\": 442,\n  \"fields\": [\n    {\n      \"column\": \"AGE\",\n      \"properties\": {\n        \"dtype\": \"number\",\n        \"std\": 13,\n        \"min\": 19,\n        \"max\": 79,\n        \"num_unique_values\": 58,\n        \"samples\": [\n          59,\n          23,\n          54\n        ],\n        \"semantic_type\": \"\",\n        \"description\": \"\"\n      }\n    },\n    {\n      \"column\": \"SEX\",\n      \"properties\": {\n        \"dtype\": \"category\",\n        \"num_unique_values\": 2,\n        \"samples\": [\n          1,\n          2\n        ],\n        \"semantic_type\": \"\",\n        \"description\": \"\"\n      }\n    },\n    {\n      \"column\": \"BMI\",\n      \"properties\": {\n        \"dtype\": \"number\",\n        \"std\": 4.4181215606157735,\n        \"min\": 18.0,\n        \"max\": 42.2,\n        \"num_unique_values\": 163,\n        \"samples\": [\n          27.2,\n          21.3\n        ],\n        \"semantic_type\": \"\",\n        \"description\": \"\"\n      }\n    },\n    {\n      \"column\": \"BP\",\n      \"properties\": {\n        \"dtype\": \"number\",\n        \"std\": 13.831283419782999,\n        \"min\": 62.0,\n        \"max\": 133.0,\n        \"num_unique_values\": 100,\n        \"samples\": [\n          104.33,\n          102.0\n        ],\n        \"semantic_type\": \"\",\n        \"description\": \"\"\n      }\n    },\n    {\n      \"column\": \"S1\",\n      \"properties\": {\n        \"dtype\": \"number\",\n        \"std\": 34,\n        \"min\": 97,\n        \"max\": 301,\n        \"num_unique_values\": 141,\n        \"samples\": [\n          219,\n          250\n        ],\n        \"semantic_type\": \"\",\n        \"description\": \"\"\n      }\n    },\n    {\n      \"column\": \"S2\",\n      \"properties\": {\n        \"dtype\": \"number\",\n        \"std\": 30.413080969276546,\n        \"min\": 41.6,\n        \"max\": 242.4,\n        \"num_unique_values\": 302,\n        \"samples\": [\n          162.8,\n          160.2\n        ],\n        \"semantic_type\": \"\",\n        \"description\": \"\"\n      }\n    },\n    {\n      \"column\": \"S3\",\n      \"properties\": {\n        \"dtype\": \"number\",\n        \"std\": 12.934202154863327,\n        \"min\": 22.0,\n        \"max\": 99.0,\n        \"num_unique_values\": 63,\n        \"samples\": [\n          75.0,\n          93.0\n        ],\n        \"semantic_type\": \"\",\n        \"description\": \"\"\n      }\n    },\n    {\n      \"column\": \"S4\",\n      \"properties\": {\n        \"dtype\": \"number\",\n        \"std\": 1.2904498966082774,\n        \"min\": 2.0,\n        \"max\": 9.09,\n        \"num_unique_values\": 66,\n        \"samples\": [\n          6.42,\n          3.4\n        ],\n        \"semantic_type\": \"\",\n        \"description\": \"\"\n      }\n    },\n    {\n      \"column\": \"S5\",\n      \"properties\": {\n        \"dtype\": \"number\",\n        \"std\": 0.5223905610694907,\n        \"min\": 3.2581,\n        \"max\": 6.107,\n        \"num_unique_values\": 184,\n        \"samples\": [\n          3.8501,\n          4.4067\n        ],\n        \"semantic_type\": \"\",\n        \"description\": \"\"\n      }\n    },\n    {\n      \"column\": \"S6\",\n      \"properties\": {\n        \"dtype\": \"number\",\n        \"std\": 11,\n        \"min\": 58,\n        \"max\": 124,\n        \"num_unique_values\": 56,\n        \"samples\": [\n          87,\n          68\n        ],\n        \"semantic_type\": \"\",\n        \"description\": \"\"\n      }\n    },\n    {\n      \"column\": \"Y\",\n      \"properties\": {\n        \"dtype\": \"number\",\n        \"std\": 77,\n        \"min\": 25,\n        \"max\": 346,\n        \"num_unique_values\": 214,\n        \"samples\": [\n          310,\n          140\n        ],\n        \"semantic_type\": \"\",\n        \"description\": \"\"\n      }\n    }\n  ]\n}"
            }
          },
          "metadata": {},
          "execution_count": 12
        }
      ]
    },
    {
      "cell_type": "code",
      "execution_count": 5,
      "metadata": {
        "deletable": false,
        "id": "-ZOm-IacyRyv"
      },
      "outputs": [],
      "source": [
        "# Coverting Sex to categorical\n",
        "df['SEX'] = df['SEX'].astype('category')"
      ]
    },
    {
      "cell_type": "code",
      "execution_count": 6,
      "metadata": {
        "deletable": false,
        "editable": false,
        "colab": {
          "base_uri": "https://localhost:8080/"
        },
        "id": "nr3lbR_HyRyx",
        "outputId": "80cdef7d-caa9-433c-f6b4-8ac7694a26d3"
      },
      "outputs": [
        {
          "output_type": "stream",
          "name": "stdout",
          "text": [
            "<class 'pandas.core.frame.DataFrame'>\n",
            "RangeIndex: 442 entries, 0 to 441\n",
            "Data columns (total 11 columns):\n",
            " #   Column  Non-Null Count  Dtype   \n",
            "---  ------  --------------  -----   \n",
            " 0   AGE     442 non-null    int64   \n",
            " 1   SEX     442 non-null    category\n",
            " 2   BMI     442 non-null    float64 \n",
            " 3   BP      442 non-null    float64 \n",
            " 4   S1      442 non-null    int64   \n",
            " 5   S2      442 non-null    float64 \n",
            " 6   S3      442 non-null    float64 \n",
            " 7   S4      442 non-null    float64 \n",
            " 8   S5      442 non-null    float64 \n",
            " 9   S6      442 non-null    int64   \n",
            " 10  Y       442 non-null    int64   \n",
            "dtypes: category(1), float64(6), int64(4)\n",
            "memory usage: 35.2 KB\n"
          ]
        }
      ],
      "source": [
        "df.info()"
      ]
    },
    {
      "cell_type": "code",
      "execution_count": 7,
      "metadata": {
        "deletable": false,
        "colab": {
          "base_uri": "https://localhost:8080/"
        },
        "id": "Ldnp2YBAyRyx",
        "outputId": "0f15beab-b3fe-4957-ad24-54c2e3a24f44"
      },
      "outputs": [
        {
          "output_type": "stream",
          "name": "stdout",
          "text": [
            "               AGE    SEX         BMI          BP          S1          S2  \\\n",
            "count   442.000000  442.0  442.000000  442.000000  442.000000  442.000000   \n",
            "unique         NaN    2.0         NaN         NaN         NaN         NaN   \n",
            "top            NaN    1.0         NaN         NaN         NaN         NaN   \n",
            "freq           NaN  235.0         NaN         NaN         NaN         NaN   \n",
            "mean     48.518100    NaN   26.375792   94.647014  189.140271  115.439140   \n",
            "std      13.109028    NaN    4.418122   13.831283   34.608052   30.413081   \n",
            "min      19.000000    NaN   18.000000   62.000000   97.000000   41.600000   \n",
            "25%      38.250000    NaN   23.200000   84.000000  164.250000   96.050000   \n",
            "50%      50.000000    NaN   25.700000   93.000000  186.000000  113.000000   \n",
            "75%      59.000000    NaN   29.275000  105.000000  209.750000  134.500000   \n",
            "max      79.000000    NaN   42.200000  133.000000  301.000000  242.400000   \n",
            "\n",
            "                S3          S4          S5          S6           Y  \n",
            "count   442.000000  442.000000  442.000000  442.000000  442.000000  \n",
            "unique         NaN         NaN         NaN         NaN         NaN  \n",
            "top            NaN         NaN         NaN         NaN         NaN  \n",
            "freq           NaN         NaN         NaN         NaN         NaN  \n",
            "mean     49.788462    4.070249    4.641411   91.260181  152.133484  \n",
            "std      12.934202    1.290450    0.522391   11.496335   77.093005  \n",
            "min      22.000000    2.000000    3.258100   58.000000   25.000000  \n",
            "25%      40.250000    3.000000    4.276700   83.250000   87.000000  \n",
            "50%      48.000000    4.000000    4.620050   91.000000  140.500000  \n",
            "75%      57.750000    5.000000    4.997200   98.000000  211.500000  \n",
            "max      99.000000    9.090000    6.107000  124.000000  346.000000  \n"
          ]
        }
      ],
      "source": [
        "#Using Panda's describe function to peak into the dataframe.\n",
        "\n",
        "dfDescription = df.describe(include='all')\n",
        "print (dfDescription)"
      ]
    },
    {
      "cell_type": "code",
      "execution_count": 8,
      "metadata": {
        "deletable": false,
        "id": "mq6d0OG0yRyy"
      },
      "outputs": [],
      "source": [
        "# Splitting the data into train and test sets.\n",
        "\n",
        "df_train, df_test = train_test_split(df, test_size = 0.3, random_state = 42)"
      ]
    },
    {
      "cell_type": "code",
      "execution_count": 9,
      "metadata": {
        "deletable": false,
        "colab": {
          "base_uri": "https://localhost:8080/"
        },
        "id": "Jt4I1EdiyRyz",
        "outputId": "d0e7c19e-1197-4a98-a635-37413cee7408"
      },
      "outputs": [
        {
          "output_type": "stream",
          "name": "stdout",
          "text": [
            "                            OLS Regression Results                            \n",
            "==============================================================================\n",
            "Dep. Variable:                      Y   R-squared:                       0.485\n",
            "Model:                            OLS   Adj. R-squared:                  0.469\n",
            "Method:                 Least Squares   F-statistic:                     31.23\n",
            "Date:                Mon, 16 Sep 2024   Prob (F-statistic):           2.82e-38\n",
            "Time:                        21:55:36   Log-Likelihood:                -1683.9\n",
            "No. Observations:                 309   AIC:                             3388.\n",
            "Df Residuals:                     299   BIC:                             3425.\n",
            "Df Model:                           9                                         \n",
            "Covariance Type:            nonrobust                                         \n",
            "==============================================================================\n",
            "                 coef    std err          t      P>|t|      [0.025      0.975]\n",
            "------------------------------------------------------------------------------\n",
            "Intercept   -295.5125     81.152     -3.641      0.000    -455.214    -135.811\n",
            "SEX[T.2]     -19.2424      7.165     -2.686      0.008     -33.342      -5.143\n",
            "AGE            0.3292      0.277      1.190      0.235      -0.215       0.874\n",
            "BMI            7.0236      0.880      7.982      0.000       5.292       8.755\n",
            "S1            -1.0185      0.684     -1.490      0.137      -2.364       0.327\n",
            "S2             0.6502      0.627      1.037      0.301      -0.584       1.884\n",
            "S3             0.2161      0.939      0.230      0.818      -1.631       2.063\n",
            "S4             6.2244      7.485      0.832      0.406      -8.505      20.954\n",
            "S5            62.8168     19.689      3.190      0.002      24.070     101.564\n",
            "S6             0.4825      0.337      1.430      0.154      -0.181       1.146\n",
            "==============================================================================\n",
            "Omnibus:                        3.115   Durbin-Watson:                   1.814\n",
            "Prob(Omnibus):                  0.211   Jarque-Bera (JB):                2.547\n",
            "Skew:                           0.105   Prob(JB):                        0.280\n",
            "Kurtosis:                       2.608   Cond. No.                     6.51e+03\n",
            "==============================================================================\n",
            "\n",
            "Notes:\n",
            "[1] Standard Errors assume that the covariance matrix of the errors is correctly specified.\n",
            "[2] The condition number is large, 6.51e+03. This might indicate that there are\n",
            "strong multicollinearity or other numerical problems.\n"
          ]
        }
      ],
      "source": [
        "# Crating a linear regression model using Statsmodels\n",
        "model = ols(formula='Y ~ AGE + SEX + BMI + S1 + S2 + S3 + S4 + S5 + S6', data=df_train)\n",
        "est_train = model.fit()\n",
        "print(est_train.summary())"
      ]
    },
    {
      "cell_type": "code",
      "execution_count": 10,
      "metadata": {
        "deletable": false,
        "colab": {
          "base_uri": "https://localhost:8080/"
        },
        "id": "vOw187F2yRy0",
        "outputId": "78df1464-6669-496b-e8e9-93709bd3eb68"
      },
      "outputs": [
        {
          "output_type": "stream",
          "name": "stdout",
          "text": [
            "Intercept   -283.234481\n",
            "SEX[T.2]      -8.840695\n",
            "BMI            8.152330\n",
            "S5            48.064774\n",
            "dtype: float64\n"
          ]
        }
      ],
      "source": [
        "# Create a model that only include the significant features\n",
        "model = ols(formula='Y ~ SEX + BMI + S5', data=df_train)\n",
        "est_train = model.fit()\n",
        "\n",
        "print(est_train.params)"
      ]
    },
    {
      "cell_type": "code",
      "execution_count": 11,
      "metadata": {
        "deletable": false,
        "colab": {
          "base_uri": "https://localhost:8080/"
        },
        "id": "XTagCXy0yRy0",
        "outputId": "9d920e22-9dd9-43e8-c53f-92ac7a13d9b1"
      },
      "outputs": [
        {
          "output_type": "stream",
          "name": "stdout",
          "text": [
            "OOS R-squared: 0.4825821522407042\n"
          ]
        }
      ],
      "source": [
        "#Calculating the Out of Sample R-squared\n",
        "pred = est_train.predict(df_test)\n",
        "r2 = r2_score(df_test['Y'], pred)\n",
        "print('OOS R-squared: '+ str(r2))"
      ]
    }
  ],
  "metadata": {
    "kernelspec": {
      "display_name": "Python 3",
      "language": "python",
      "name": "python3"
    },
    "language_info": {
      "codemirror_mode": {
        "name": "ipython",
        "version": 3
      },
      "file_extension": ".py",
      "mimetype": "text/x-python",
      "name": "python",
      "nbconvert_exporter": "python",
      "pygments_lexer": "ipython3",
      "version": "3.6.9"
    },
    "colab": {
      "provenance": [],
      "include_colab_link": true
    }
  },
  "nbformat": 4,
  "nbformat_minor": 0
}
